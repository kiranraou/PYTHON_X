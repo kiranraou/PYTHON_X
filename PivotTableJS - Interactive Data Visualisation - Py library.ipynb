{
 "cells": [
  {
   "cell_type": "markdown",
   "id": "0ee5417c",
   "metadata": {},
   "source": [
    "# PivotTableJS - Interactive Data Visualisation - Py library just Drop & Drag Tool - Jupyter Notebook - Python"
   ]
  },
  {
   "cell_type": "markdown",
   "id": "95e9ed82",
   "metadata": {},
   "source": [
    "Easy Way to create pivot tables,charts and group data without writing any code - Drop & Drag Tool - Jupyter NB -Python"
   ]
  },
  {
   "cell_type": "markdown",
   "id": "9130b28b",
   "metadata": {},
   "source": [
    "Pre-requisities"
   ]
  },
  {
   "cell_type": "code",
   "execution_count": 1,
   "id": "ab7cb80b",
   "metadata": {},
   "outputs": [
    {
     "name": "stdout",
     "output_type": "stream",
     "text": [
      "Collecting pivottablejs\n",
      "  Downloading pivottablejs-0.9.0-py2.py3-none-any.whl (4.7 kB)\n",
      "Installing collected packages: pivottablejs\n",
      "Successfully installed pivottablejs-0.9.0\n"
     ]
    }
   ],
   "source": [
    "!pip install pivottablejs"
   ]
  },
  {
   "cell_type": "markdown",
   "id": "59265127",
   "metadata": {},
   "source": [
    "Importing Libraries"
   ]
  },
  {
   "cell_type": "code",
   "execution_count": 2,
   "id": "7dfdba42",
   "metadata": {},
   "outputs": [],
   "source": [
    "import pandas as pd\n",
    "df = pd.read_csv(\"employees.csv\")"
   ]
  },
  {
   "cell_type": "markdown",
   "id": "261e3b63",
   "metadata": {},
   "source": [
    "Interactive charts in Jupyter."
   ]
  },
  {
   "cell_type": "code",
   "execution_count": 3,
   "id": "f20e8cd6",
   "metadata": {},
   "outputs": [
    {
     "data": {
      "text/html": [
       "\n",
       "        <iframe\n",
       "            width=\"100%\"\n",
       "            height=\"500\"\n",
       "            src=\"pivottablejs.html\"\n",
       "            frameborder=\"0\"\n",
       "            allowfullscreen\n",
       "            \n",
       "        ></iframe>\n",
       "        "
      ],
      "text/plain": [
       "<IPython.lib.display.IFrame at 0x7fbd29514490>"
      ]
     },
     "execution_count": 3,
     "metadata": {},
     "output_type": "execute_result"
    }
   ],
   "source": [
    "from pivottablejs import pivot_ui\n",
    "\n",
    "pivot_ui(df)"
   ]
  }
 ],
 "metadata": {
  "kernelspec": {
   "display_name": "Python 3 (ipykernel)",
   "language": "python",
   "name": "python3"
  },
  "language_info": {
   "codemirror_mode": {
    "name": "ipython",
    "version": 3
   },
   "file_extension": ".py",
   "mimetype": "text/x-python",
   "name": "python",
   "nbconvert_exporter": "python",
   "pygments_lexer": "ipython3",
   "version": "3.9.13"
  }
 },
 "nbformat": 4,
 "nbformat_minor": 5
}
