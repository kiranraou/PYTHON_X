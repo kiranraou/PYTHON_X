{
  "nbformat": 4,
  "nbformat_minor": 0,
  "metadata": {
    "colab": {
      "name": "Basic ML Iphone Price prediction.ipynb",
      "provenance": [],
      "collapsed_sections": [],
      "authorship_tag": "ABX9TyMjAT8MXnBpSoOeIVtqgg6q",
      "include_colab_link": true
    },
    "kernelspec": {
      "name": "python3",
      "display_name": "Python 3"
    },
    "language_info": {
      "name": "python"
    }
  },
  "cells": [
    {
      "cell_type": "markdown",
      "metadata": {
        "id": "view-in-github",
        "colab_type": "text"
      },
      "source": [
        "<a href=\"https://colab.research.google.com/github/kiranraou/PYTHON_X/blob/main/Basic_ML_Iphone_Price_prediction.ipynb\" target=\"_parent\"><img src=\"https://colab.research.google.com/assets/colab-badge.svg\" alt=\"Open In Colab\"/></a>"
      ]
    },
    {
      "cell_type": "markdown",
      "metadata": {
        "id": "bEyN3-aZcoZR"
      },
      "source": [
        "**Basic ML Iphone Price Prediction using Regression model.**"
      ]
    },
    {
      "cell_type": "code",
      "metadata": {
        "colab": {
          "base_uri": "https://localhost:8080/",
          "height": 313
        },
        "id": "PaAC4-odcj6P",
        "outputId": "1fcc77b2-9f11-45f1-ac09-0c69bee994a3"
      },
      "source": [
        "import pandas\n",
        "import matplotlib.pyplot as plt\n",
        "from sklearn.linear_model import LinearRegression\n",
        "data = pandas.read_csv('iphone_price.csv')\n",
        "plt.scatter(data['Iphone Model'], data['Iphone Price'])\n",
        "plt.grid()\n",
        "plt.title('Iphone Sales price')\n",
        "plt.xlabel('Iphone Model')\n",
        "plt.ylabel('Iphone Price')\n",
        "plt.show()\n",
        "model = LinearRegression()\n",
        "model.fit(data[['Iphone Model']], data[['Iphone Price']])\n",
        "print(model.predict([[13]]))"
      ],
      "execution_count": 9,
      "outputs": [
        {
          "output_type": "display_data",
          "data": {
            "image/png": "[encoded data removed]",
            "text/plain": [
              "<Figure size 432x288 with 1 Axes>"
            ]
          },
          "metadata": {
            "needs_background": "light"
          }
        },
        {
          "output_type": "stream",
          "name": "stdout",
          "text": [
            "[[1292.03030303]]\n"
          ]
        }
      ]
    },
    {
      "cell_type": "code",
      "metadata": {
        "id": "b5t8cWAOdYQ_"
      },
      "source": [
        ""
      ],
      "execution_count": null,
      "outputs": []
    }
  ]
}