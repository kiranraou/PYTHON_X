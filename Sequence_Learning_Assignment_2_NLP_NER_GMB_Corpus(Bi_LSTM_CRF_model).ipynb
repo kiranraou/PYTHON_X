{
  "nbformat": 4,
  "nbformat_minor": 0,
  "metadata": {
    "colab": {
      "name": "Sequence Learning -Assignment 2-NLP_NER-GMB_Corpus(Bi-LSTM-CRF model).ipynb",
      "provenance": [],
      "collapsed_sections": [],
      "authorship_tag": "ABX9TyMcsHa5MgW/+i1+ZbgEW1IZ",
      "include_colab_link": true
    },
    "kernelspec": {
      "name": "python3",
      "display_name": "Python 3"
    },
    "language_info": {
      "name": "python"
    }
  },
  "cells": [
    {
      "cell_type": "markdown",
      "metadata": {
        "id": "view-in-github",
        "colab_type": "text"
      },
      "source": [
        "<a href=\"https://colab.research.google.com/github/kiranraou/PYTHON_X/blob/main/Sequence_Learning_Assignment_2_NLP_NER_GMB_Corpus(Bi_LSTM_CRF_model).ipynb\" target=\"_parent\"><img src=\"https://colab.research.google.com/assets/colab-badge.svg\" alt=\"Open In Colab\"/></a>"
      ]
    },
    {
      "cell_type": "markdown",
      "metadata": {
        "id": "QvAP0t-Rmuow"
      },
      "source": [
        "**Sequence Learning - Assignment 2.**\n"
      ]
    },
    {
      "cell_type": "markdown",
      "metadata": {
        "id": "5KQ5Df5hm5kK"
      },
      "source": [
        "**Named Entity Recognition (NER) on Groningen Meaning Bank (GMB) Corpus.**\n",
        "\n",
        "**Problem Statement 2**\n",
        "\n",
        "In Natural Language Processing (NLP), Entity Recognition is one of \n",
        "the common problems. NER is a method of extracting the relevant \n",
        "information from a large corpus and classifying those entities into \n",
        "predefined categories such as location, organization, name, and so \n",
        "on. \n",
        "In this problem you are given tagged data for entities, you have to \n",
        "predict those entities using LSTM model.\n",
        "\n"
      ]
    },
    {
      "cell_type": "markdown",
      "metadata": {
        "id": "x5BpEHohndGA"
      },
      "source": [
        "**Dataset Description:**\n",
        "\n",
        "Dataset: CRF_POS_dataset.csv\n",
        "\n",
        "This dataset is extracted from GMB(Groningen Meaning Bank) corpus, which is tagged, \n",
        "annotated, and built specifically to train the classifier to predict named entities such as name, \n",
        "location, etc. \n",
        "Essential info about entities:\n",
        "\n",
        "-geo = Geographical Entity\n",
        "\n",
        "-org = Organization\n",
        "\n",
        "-per = Person\n",
        "\n",
        "-gpe = Geopolitical Entity\n",
        "\n",
        "-tim = Time indicator\n",
        "\n",
        "-art = Artifact\n",
        "\n",
        "-eve = Event\n",
        "\n",
        "-nat = Natural Phenomenon\n",
        "\n",
        "Above class of entities are labeled using the BIO scheme, where each entity label is prefixed with either B or I letter. B- denotes the beginning and I- inside of an entity. The words which are not of interest are labeled with 0.\n",
        "\n"
      ]
    },
    {
      "cell_type": "code",
      "metadata": {
        "colab": {
          "base_uri": "https://localhost:8080/"
        },
        "id": "et2j-_5afayw",
        "outputId": "edf033c9-0793-46d4-8c0d-6f1bb3de90a6"
      },
      "source": [
        "%tensorflow_version 1.x\n"
      ],
      "execution_count": 1,
      "outputs": [
        {
          "output_type": "stream",
          "text": [
            "TensorFlow 1.x selected.\n"
          ],
          "name": "stdout"
        }
      ]
    },
    {
      "cell_type": "markdown",
      "metadata": {
        "id": "3k5bvNefppGQ"
      },
      "source": [
        "**Mounting Google Drive.**"
      ]
    },
    {
      "cell_type": "code",
      "metadata": {
        "colab": {
          "base_uri": "https://localhost:8080/"
        },
        "id": "NRcC0XKAgAq-",
        "outputId": "8e486f82-f5b4-4f23-8473-f8ae14ddd1fe"
      },
      "source": [
        "from google.colab import drive\n",
        "drive.mount('/content/drive')"
      ],
      "execution_count": 2,
      "outputs": [
        {
          "output_type": "stream",
          "text": [
            "Mounted at /content/drive\n"
          ],
          "name": "stdout"
        }
      ]
    },
    {
      "cell_type": "markdown",
      "metadata": {
        "id": "eTGmXad0p0iq"
      },
      "source": [
        "**Importing Libraries.**"
      ]
    },
    {
      "cell_type": "code",
      "metadata": {
        "id": "phXaVNYogpdo"
      },
      "source": [
        "import warnings\n",
        "warnings.filterwarnings(\"ignore\")\n",
        "import pandas as pd\n",
        "import csv\n",
        "\n",
        "import matplotlib.pyplot as plt\n",
        "%matplotlib inline\n",
        "import seaborn as sns\n",
        "import numpy as np\n",
        "import re\n",
        "import os\n",
        "\n",
        "import tensorflow as tf\n",
        "import keras\n",
        "\n",
        "from keras.preprocessing.sequence import pad_sequences\n",
        "from keras.utils import to_categorical\n",
        "from sklearn.model_selection import train_test_split\n",
        "\n",
        "from seqeval.metrics import precision_score, recall_score, f1_score, classification_report, accuracy_score\n",
        "\n",
        "from keras.models import Model, Input\n",
        "from keras.layers import LSTM, Embedding, Dense, TimeDistributed, Dropout, Bidirectional\n",
        "from keras_contrib.layers import CRF\n",
        "from keras_contrib.losses import crf_loss\n",
        "from keras_contrib.metrics import crf_viterbi_accuracy\n",
        "\n",
        "from prettytable import PrettyTable"
      ],
      "execution_count": 6,
      "outputs": []
    },
    {
      "cell_type": "markdown",
      "metadata": {
        "id": "UdeVcgtIqDx5"
      },
      "source": [
        "### **Exploratory Data Analysis**"
      ]
    },
    {
      "cell_type": "markdown",
      "metadata": {
        "id": "jjxD9NQBqIIG"
      },
      "source": [
        "**Reading Dataset.**"
      ]
    },
    {
      "cell_type": "code",
      "metadata": {
        "colab": {
          "base_uri": "https://localhost:8080/",
          "height": 206
        },
        "id": "UbQD5JDagphs",
        "outputId": "a913d945-72a9-4a2a-ff6f-15a0664c4978"
      },
      "source": [
        "#Read data\n",
        "data = pd.read_csv('/content/drive/MyDrive/NIT Warangal _Industry Project/ner_dataset.csv', encoding=\"latin1\").fillna(method=\"ffill\")\n",
        "data.head()"
      ],
      "execution_count": 7,
      "outputs": [
        {
          "output_type": "execute_result",
          "data": {
            "text/html": [
              "<div>\n",
              "<style scoped>\n",
              "    .dataframe tbody tr th:only-of-type {\n",
              "        vertical-align: middle;\n",
              "    }\n",
              "\n",
              "    .dataframe tbody tr th {\n",
              "        vertical-align: top;\n",
              "    }\n",
              "\n",
              "    .dataframe thead th {\n",
              "        text-align: right;\n",
              "    }\n",
              "</style>\n",
              "<table border=\"1\" class=\"dataframe\">\n",
              "  <thead>\n",
              "    <tr style=\"text-align: right;\">\n",
              "      <th></th>\n",
              "      <th>Sentence #</th>\n",
              "      <th>Word</th>\n",
              "      <th>POS</th>\n",
              "      <th>Tag</th>\n",
              "    </tr>\n",
              "  </thead>\n",
              "  <tbody>\n",
              "    <tr>\n",
              "      <th>0</th>\n",
              "      <td>Sentence: 1</td>\n",
              "      <td>Thousands</td>\n",
              "      <td>NNS</td>\n",
              "      <td>O</td>\n",
              "    </tr>\n",
              "    <tr>\n",
              "      <th>1</th>\n",
              "      <td>Sentence: 1</td>\n",
              "      <td>of</td>\n",
              "      <td>IN</td>\n",
              "      <td>O</td>\n",
              "    </tr>\n",
              "    <tr>\n",
              "      <th>2</th>\n",
              "      <td>Sentence: 1</td>\n",
              "      <td>demonstrators</td>\n",
              "      <td>NNS</td>\n",
              "      <td>O</td>\n",
              "    </tr>\n",
              "    <tr>\n",
              "      <th>3</th>\n",
              "      <td>Sentence: 1</td>\n",
              "      <td>have</td>\n",
              "      <td>VBP</td>\n",
              "      <td>O</td>\n",
              "    </tr>\n",
              "    <tr>\n",
              "      <th>4</th>\n",
              "      <td>Sentence: 1</td>\n",
              "      <td>marched</td>\n",
              "      <td>VBN</td>\n",
              "      <td>O</td>\n",
              "    </tr>\n",
              "  </tbody>\n",
              "</table>\n",
              "</div>"
            ],
            "text/plain": [
              "    Sentence #           Word  POS Tag\n",
              "0  Sentence: 1      Thousands  NNS   O\n",
              "1  Sentence: 1             of   IN   O\n",
              "2  Sentence: 1  demonstrators  NNS   O\n",
              "3  Sentence: 1           have  VBP   O\n",
              "4  Sentence: 1        marched  VBN   O"
            ]
          },
          "metadata": {
            "tags": []
          },
          "execution_count": 7
        }
      ]
    },
    {
      "cell_type": "code",
      "metadata": {
        "colab": {
          "base_uri": "https://localhost:8080/"
        },
        "id": "c-ExV_-pgp8x",
        "outputId": "2c293703-4864-48ad-ca1c-62731ef02571"
      },
      "source": [
        "data.shape\n"
      ],
      "execution_count": 8,
      "outputs": [
        {
          "output_type": "execute_result",
          "data": {
            "text/plain": [
              "(1048575, 4)"
            ]
          },
          "metadata": {
            "tags": []
          },
          "execution_count": 8
        }
      ]
    },
    {
      "cell_type": "code",
      "metadata": {
        "colab": {
          "base_uri": "https://localhost:8080/"
        },
        "id": "j5zwOGl4gBAV",
        "outputId": "0a671b62-c773-4ba5-8197-b6049755228e"
      },
      "source": [
        "data.info()\n"
      ],
      "execution_count": 9,
      "outputs": [
        {
          "output_type": "stream",
          "text": [
            "<class 'pandas.core.frame.DataFrame'>\n",
            "RangeIndex: 1048575 entries, 0 to 1048574\n",
            "Data columns (total 4 columns):\n",
            " #   Column      Non-Null Count    Dtype \n",
            "---  ------      --------------    ----- \n",
            " 0   Sentence #  1048575 non-null  object\n",
            " 1   Word        1048575 non-null  object\n",
            " 2   POS         1048575 non-null  object\n",
            " 3   Tag         1048575 non-null  object\n",
            "dtypes: object(4)\n",
            "memory usage: 32.0+ MB\n"
          ],
          "name": "stdout"
        }
      ]
    },
    {
      "cell_type": "code",
      "metadata": {
        "colab": {
          "base_uri": "https://localhost:8080/",
          "height": 334
        },
        "id": "2NLi7mRVg_vp",
        "outputId": "fbd7b5e8-c3f4-4c35-aa6b-0b52dd18371f"
      },
      "source": [
        "#Countplot\n",
        "plt.figure(figsize=(15,5))\n",
        "sns.countplot(x=\"Tag\", data=data)\n",
        "plt.show()"
      ],
      "execution_count": 10,
      "outputs": [
        {
          "output_type": "display_data",
          "data": {
            "image/png": "[encoded data removed]",
            "text/plain": [
              "<Figure size 1080x360 with 1 Axes>"
            ]
          },
          "metadata": {
            "tags": [],
            "needs_background": "light"
          }
        }
      ]
    },
    {
      "cell_type": "code",
      "metadata": {
        "colab": {
          "base_uri": "https://localhost:8080/"
        },
        "id": "541nXmDgg_yX",
        "outputId": "d4783414-8069-4ee6-a9e8-d27afa5e8d0a"
      },
      "source": [
        "# Count of words with corresponding tag\n",
        "data['Tag'].value_counts()"
      ],
      "execution_count": 11,
      "outputs": [
        {
          "output_type": "execute_result",
          "data": {
            "text/plain": [
              "O        887908\n",
              "B-geo     37644\n",
              "B-tim     20333\n",
              "B-org     20143\n",
              "I-per     17251\n",
              "B-per     16990\n",
              "I-org     16784\n",
              "B-gpe     15870\n",
              "I-geo      7414\n",
              "I-tim      6528\n",
              "B-art       402\n",
              "B-eve       308\n",
              "I-art       297\n",
              "I-eve       253\n",
              "B-nat       201\n",
              "I-gpe       198\n",
              "I-nat        51\n",
              "Name: Tag, dtype: int64"
            ]
          },
          "metadata": {
            "tags": []
          },
          "execution_count": 11
        }
      ]
    },
    {
      "cell_type": "code",
      "metadata": {
        "colab": {
          "base_uri": "https://localhost:8080/"
        },
        "id": "sv8WJV8Ig_0_",
        "outputId": "b6423328-eede-40b7-ca41-449fe588aa36"
      },
      "source": [
        "data.isnull().sum(axis = 0)"
      ],
      "execution_count": 12,
      "outputs": [
        {
          "output_type": "execute_result",
          "data": {
            "text/plain": [
              "Sentence #    0\n",
              "Word          0\n",
              "POS           0\n",
              "Tag           0\n",
              "dtype: int64"
            ]
          },
          "metadata": {
            "tags": []
          },
          "execution_count": 12
        }
      ]
    },
    {
      "cell_type": "code",
      "metadata": {
        "colab": {
          "base_uri": "https://localhost:8080/"
        },
        "id": "IcAdzg1cg_4J",
        "outputId": "3300a742-a45b-43da-e198-b557c81e75e3"
      },
      "source": [
        "words = list(set(data[\"Word\"].values))\n",
        "words.append(\"ENDPAD\")\n",
        "n_words = len(words)\n",
        "print(\"Number of unique words in dataset:\", n_words)"
      ],
      "execution_count": 13,
      "outputs": [
        {
          "output_type": "stream",
          "text": [
            "Number of unique words in dataset: 35179\n"
          ],
          "name": "stdout"
        }
      ]
    },
    {
      "cell_type": "code",
      "metadata": {
        "colab": {
          "base_uri": "https://localhost:8080/"
        },
        "id": "JXBurqjuhOKx",
        "outputId": "ad70e99c-01c6-4898-e989-d850f021e6af"
      },
      "source": [
        "tags = list(set(data[\"Tag\"].values))\n",
        "n_tags = len(tags)\n",
        "print(\"Number of unique tags in dataset:\", n_tags)"
      ],
      "execution_count": 14,
      "outputs": [
        {
          "output_type": "stream",
          "text": [
            "Number of unique tags in dataset: 17\n"
          ],
          "name": "stdout"
        }
      ]
    },
    {
      "cell_type": "code",
      "metadata": {
        "id": "qn7-zkhLhONp"
      },
      "source": [
        "#To get a sentence\n",
        "class SentenceGetter(object):\n",
        "    \n",
        "    def __init__(self, data):\n",
        "        self.n_sent = 1\n",
        "        self.data = data\n",
        "        self.empty = False\n",
        "        agg_func = lambda s: [(w, p, t) for w, p, t in zip(s[\"Word\"].values.tolist(),\n",
        "                                                           s[\"POS\"].values.tolist(),\n",
        "                                                           s[\"Tag\"].values.tolist())]\n",
        "        self.grouped = self.data.groupby(\"Sentence #\").apply(agg_func)\n",
        "        self.sentences = [s for s in self.grouped]"
      ],
      "execution_count": 15,
      "outputs": []
    },
    {
      "cell_type": "code",
      "metadata": {
        "colab": {
          "base_uri": "https://localhost:8080/"
        },
        "id": "fDVu_mzHhOQX",
        "outputId": "694ea24b-024a-4864-ee2b-aa5aa081e9e5"
      },
      "source": [
        "getter = SentenceGetter(data)\n",
        "sentences = getter.sentences\n",
        "sentences[0]"
      ],
      "execution_count": 16,
      "outputs": [
        {
          "output_type": "execute_result",
          "data": {
            "text/plain": [
              "[('Thousands', 'NNS', 'O'),\n",
              " ('of', 'IN', 'O'),\n",
              " ('demonstrators', 'NNS', 'O'),\n",
              " ('have', 'VBP', 'O'),\n",
              " ('marched', 'VBN', 'O'),\n",
              " ('through', 'IN', 'O'),\n",
              " ('London', 'NNP', 'B-geo'),\n",
              " ('to', 'TO', 'O'),\n",
              " ('protest', 'VB', 'O'),\n",
              " ('the', 'DT', 'O'),\n",
              " ('war', 'NN', 'O'),\n",
              " ('in', 'IN', 'O'),\n",
              " ('Iraq', 'NNP', 'B-geo'),\n",
              " ('and', 'CC', 'O'),\n",
              " ('demand', 'VB', 'O'),\n",
              " ('the', 'DT', 'O'),\n",
              " ('withdrawal', 'NN', 'O'),\n",
              " ('of', 'IN', 'O'),\n",
              " ('British', 'JJ', 'B-gpe'),\n",
              " ('troops', 'NNS', 'O'),\n",
              " ('from', 'IN', 'O'),\n",
              " ('that', 'DT', 'O'),\n",
              " ('country', 'NN', 'O'),\n",
              " ('.', '.', 'O')]"
            ]
          },
          "metadata": {
            "tags": []
          },
          "execution_count": 16
        }
      ]
    },
    {
      "cell_type": "code",
      "metadata": {
        "colab": {
          "base_uri": "https://localhost:8080/"
        },
        "id": "wMNcKzj0hOT_",
        "outputId": "f6face26-8e4e-42ed-ddf4-a7a434a55fe9"
      },
      "source": [
        "print(\"Number of sentences in dataset:\", len(sentences))\n",
        "maxlen = max([len(s) for s in sentences])\n",
        "print ('Maximum sentence length:', maxlen)"
      ],
      "execution_count": 17,
      "outputs": [
        {
          "output_type": "stream",
          "text": [
            "Number of sentences in dataset: 47959\n",
            "Maximum sentence length: 104\n"
          ],
          "name": "stdout"
        }
      ]
    },
    {
      "cell_type": "code",
      "metadata": {
        "colab": {
          "base_uri": "https://localhost:8080/",
          "height": 281
        },
        "id": "nkUga6XNhfv8",
        "outputId": "9c049e6f-95a6-4be9-f2d3-e49883a5c042"
      },
      "source": [
        "plt.hist([len(s) for s in sentences], bins=50)\n",
        "plt.title(\"Histogram of lenght of sentences\")\n",
        "plt.show()"
      ],
      "execution_count": 18,
      "outputs": [
        {
          "output_type": "display_data",
          "data": {
            "image/png": "[encoded data removed]",
            "text/plain": [
              "<Figure size 432x288 with 1 Axes>"
            ]
          },
          "metadata": {
            "tags": [],
            "needs_background": "light"
          }
        }
      ]
    },
    {
      "cell_type": "code",
      "metadata": {
        "colab": {
          "base_uri": "https://localhost:8080/"
        },
        "id": "3oIUaQuQhfyh",
        "outputId": "198ded7f-6848-4f66-fff9-c8566f994dca"
      },
      "source": [
        "#Words with B-org tag\n",
        "data.loc[data['Tag'] == 'B-org', 'Word'].head()"
      ],
      "execution_count": 19,
      "outputs": [
        {
          "output_type": "execute_result",
          "data": {
            "text/plain": [
              "97             Labor\n",
              "154    International\n",
              "215             IAEA\n",
              "234         European\n",
              "248             U.N.\n",
              "Name: Word, dtype: object"
            ]
          },
          "metadata": {
            "tags": []
          },
          "execution_count": 19
        }
      ]
    },
    {
      "cell_type": "code",
      "metadata": {
        "colab": {
          "base_uri": "https://localhost:8080/"
        },
        "id": "WoIHpM-Phf2F",
        "outputId": "29b179a0-6733-4a2d-fbdd-e1a8b8e95927"
      },
      "source": [
        "#Words with I-org tag\n",
        "data.loc[data['Tag'] == 'I-org', 'Word'].head()"
      ],
      "execution_count": 20,
      "outputs": [
        {
          "output_type": "execute_result",
          "data": {
            "text/plain": [
              "98      Party\n",
              "155    Atomic\n",
              "156    Energy\n",
              "157    Agency\n",
              "235     Union\n",
              "Name: Word, dtype: object"
            ]
          },
          "metadata": {
            "tags": []
          },
          "execution_count": 20
        }
      ]
    },
    {
      "cell_type": "markdown",
      "metadata": {
        "id": "ZDaUmcV7qfa6"
      },
      "source": [
        "**Data Pre-processing.**"
      ]
    },
    {
      "cell_type": "code",
      "metadata": {
        "id": "hhQvVwP4g_7Q"
      },
      "source": [
        "# Assigning index to all unique words and tags\n",
        "max_len = 100\n",
        "word_to_idx = {w: i + 1 for i, w in enumerate(words)}\n",
        "tag_to_idx = {t: i for i, t in enumerate(tags)}"
      ],
      "execution_count": 21,
      "outputs": []
    },
    {
      "cell_type": "code",
      "metadata": {
        "id": "IohUeAD4gBJ_"
      },
      "source": [
        "# Convert the sentence with words to sentence with corresponding index to each word\n",
        "X = [[word_to_idx[w[0]] for w in s] for s in sentences]\n",
        "# Padding sentences to make the length of all sentences same\n",
        "X = pad_sequences(maxlen=max_len, sequences=X, padding=\"post\", value=0)"
      ],
      "execution_count": 22,
      "outputs": []
    },
    {
      "cell_type": "code",
      "metadata": {
        "id": "F5Dbi1oRiAkq"
      },
      "source": [
        "# Converting tags to indices\n",
        "y = [[tag_to_idx[w[2]] for w in s] for s in sentences]\n",
        "# Padding tags to match length of sentence\n",
        "y = pad_sequences(maxlen=max_len, sequences=y, padding=\"post\", value=tag_to_idx[\"O\"])\n",
        "# Make y categorical\n",
        "y = [to_categorical(i, num_classes=n_tags) for i in y]"
      ],
      "execution_count": 23,
      "outputs": []
    },
    {
      "cell_type": "code",
      "metadata": {
        "id": "3ImhJErfiFSY"
      },
      "source": [
        "# Splitting data into train data (80%) and test data (20%)\n",
        "X_tr, X_te, y_tr, y_te = train_test_split(X, y, test_size=0.2)"
      ],
      "execution_count": 24,
      "outputs": []
    },
    {
      "cell_type": "markdown",
      "metadata": {
        "id": "9IFqO2AWqrSP"
      },
      "source": [
        "**Training the Model.**"
      ]
    },
    {
      "cell_type": "code",
      "metadata": {
        "colab": {
          "base_uri": "https://localhost:8080/"
        },
        "id": "xd-5yEwXiJLH",
        "outputId": "b4b9e152-7ff0-47ee-dc93-aee5bd9570fd"
      },
      "source": [
        "# Defining model architecture\n",
        "\n",
        "tf.compat.v1.set_random_seed(32)\n",
        "\n",
        "input = Input(shape=(max_len,))\n",
        "model = Embedding(input_dim=n_words + 1, output_dim=20, input_length=max_len)(input)\n",
        "model = Bidirectional(LSTM(units=50, return_sequences=True, recurrent_dropout=0.1))(model)\n",
        "model = TimeDistributed(Dense(50, activation=\"relu\"))(model)\n",
        "crf = CRF(n_tags, learn_mode = 'join', test_mode = 'viterbi') \n",
        "out = crf(model)"
      ],
      "execution_count": 25,
      "outputs": [
        {
          "output_type": "stream",
          "text": [
            "WARNING:tensorflow:From /tensorflow-1.15.2/python3.7/tensorflow_core/python/ops/resource_variable_ops.py:1630: calling BaseResourceVariable.__init__ (from tensorflow.python.ops.resource_variable_ops) with constraint is deprecated and will be removed in a future version.\n",
            "Instructions for updating:\n",
            "If using Keras pass *_constraint arguments to layers.\n"
          ],
          "name": "stdout"
        }
      ]
    },
    {
      "cell_type": "code",
      "metadata": {
        "colab": {
          "base_uri": "https://localhost:8080/"
        },
        "id": "u0g2kLKsiJOf",
        "outputId": "15a7d483-5373-4f98-dd9c-5ac80a3162e8"
      },
      "source": [
        "model = Model(input, out)\n",
        "model.compile(optimizer=\"rmsprop\", loss=crf_loss, metrics=[crf_viterbi_accuracy])\n",
        "model.summary()"
      ],
      "execution_count": 26,
      "outputs": [
        {
          "output_type": "stream",
          "text": [
            "WARNING:tensorflow:From /tensorflow-1.15.2/python3.7/tensorflow_core/python/ops/math_ops.py:2509: where (from tensorflow.python.ops.array_ops) is deprecated and will be removed in a future version.\n",
            "Instructions for updating:\n",
            "Use tf.where in 2.0, which has the same broadcast rule as np.where\n",
            "Model: \"model_1\"\n",
            "_________________________________________________________________\n",
            "Layer (type)                 Output Shape              Param #   \n",
            "=================================================================\n",
            "input_1 (InputLayer)         (None, 100)               0         \n",
            "_________________________________________________________________\n",
            "embedding_1 (Embedding)      (None, 100, 20)           703600    \n",
            "_________________________________________________________________\n",
            "bidirectional_1 (Bidirection (None, 100, 100)          28400     \n",
            "_________________________________________________________________\n",
            "time_distributed_1 (TimeDist (None, 100, 50)           5050      \n",
            "_________________________________________________________________\n",
            "crf_1 (CRF)                  (None, 100, 17)           1190      \n",
            "=================================================================\n",
            "Total params: 738,240\n",
            "Trainable params: 738,240\n",
            "Non-trainable params: 0\n",
            "_________________________________________________________________\n"
          ],
          "name": "stdout"
        }
      ]
    },
    {
      "cell_type": "code",
      "metadata": {
        "colab": {
          "base_uri": "https://localhost:8080/"
        },
        "id": "79YECYVxiJdR",
        "outputId": "bd15f9d5-9a52-4b06-f2f4-0030266d130f"
      },
      "source": [
        "# Train the model\n",
        "history = model.fit(X_tr, np.array(y_tr), batch_size=64, epochs=6, validation_split=0.2, verbose=1)"
      ],
      "execution_count": 27,
      "outputs": [
        {
          "output_type": "stream",
          "text": [
            "WARNING:tensorflow:From /tensorflow-1.15.2/python3.7/keras/backend/tensorflow_backend.py:422: The name tf.global_variables is deprecated. Please use tf.compat.v1.global_variables instead.\n",
            "\n",
            "Train on 30693 samples, validate on 7674 samples\n",
            "Epoch 1/6\n",
            "30693/30693 [==============================] - 121s 4ms/step - loss: 0.1313 - crf_viterbi_accuracy: 0.9671 - val_loss: 0.0545 - val_crf_viterbi_accuracy: 0.9818\n",
            "Epoch 2/6\n",
            "30693/30693 [==============================] - 118s 4ms/step - loss: 0.0316 - crf_viterbi_accuracy: 0.9874 - val_loss: 0.0203 - val_crf_viterbi_accuracy: 0.9897\n",
            "Epoch 3/6\n",
            "30693/30693 [==============================] - 120s 4ms/step - loss: 0.0110 - crf_viterbi_accuracy: 0.9914 - val_loss: 0.0082 - val_crf_viterbi_accuracy: 0.9911\n",
            "Epoch 4/6\n",
            "30693/30693 [==============================] - 118s 4ms/step - loss: 4.2851e-04 - crf_viterbi_accuracy: 0.9929 - val_loss: 5.8587e-05 - val_crf_viterbi_accuracy: 0.9919\n",
            "Epoch 5/6\n",
            "30693/30693 [==============================] - 119s 4ms/step - loss: -0.0072 - crf_viterbi_accuracy: 0.9936 - val_loss: -0.0061 - val_crf_viterbi_accuracy: 0.9921\n",
            "Epoch 6/6\n",
            "30693/30693 [==============================] - 116s 4ms/step - loss: -0.0137 - crf_viterbi_accuracy: 0.9941 - val_loss: -0.0119 - val_crf_viterbi_accuracy: 0.9923\n"
          ],
          "name": "stdout"
        }
      ]
    },
    {
      "cell_type": "code",
      "metadata": {
        "colab": {
          "base_uri": "https://localhost:8080/",
          "height": 237
        },
        "id": "kL9AhdcYiJgv",
        "outputId": "3e9d0265-8f9d-4fd8-a170-892077c50440"
      },
      "source": [
        "hist = pd.DataFrame(history.history)\n",
        "hist"
      ],
      "execution_count": 28,
      "outputs": [
        {
          "output_type": "execute_result",
          "data": {
            "text/html": [
              "<div>\n",
              "<style scoped>\n",
              "    .dataframe tbody tr th:only-of-type {\n",
              "        vertical-align: middle;\n",
              "    }\n",
              "\n",
              "    .dataframe tbody tr th {\n",
              "        vertical-align: top;\n",
              "    }\n",
              "\n",
              "    .dataframe thead th {\n",
              "        text-align: right;\n",
              "    }\n",
              "</style>\n",
              "<table border=\"1\" class=\"dataframe\">\n",
              "  <thead>\n",
              "    <tr style=\"text-align: right;\">\n",
              "      <th></th>\n",
              "      <th>val_loss</th>\n",
              "      <th>val_crf_viterbi_accuracy</th>\n",
              "      <th>loss</th>\n",
              "      <th>crf_viterbi_accuracy</th>\n",
              "    </tr>\n",
              "  </thead>\n",
              "  <tbody>\n",
              "    <tr>\n",
              "      <th>0</th>\n",
              "      <td>0.054477</td>\n",
              "      <td>0.981805</td>\n",
              "      <td>0.131317</td>\n",
              "      <td>0.967066</td>\n",
              "    </tr>\n",
              "    <tr>\n",
              "      <th>1</th>\n",
              "      <td>0.020312</td>\n",
              "      <td>0.989662</td>\n",
              "      <td>0.031607</td>\n",
              "      <td>0.987361</td>\n",
              "    </tr>\n",
              "    <tr>\n",
              "      <th>2</th>\n",
              "      <td>0.008164</td>\n",
              "      <td>0.991143</td>\n",
              "      <td>0.011048</td>\n",
              "      <td>0.991381</td>\n",
              "    </tr>\n",
              "    <tr>\n",
              "      <th>3</th>\n",
              "      <td>0.000059</td>\n",
              "      <td>0.991920</td>\n",
              "      <td>0.000429</td>\n",
              "      <td>0.992897</td>\n",
              "    </tr>\n",
              "    <tr>\n",
              "      <th>4</th>\n",
              "      <td>-0.006094</td>\n",
              "      <td>0.992134</td>\n",
              "      <td>-0.007233</td>\n",
              "      <td>0.993607</td>\n",
              "    </tr>\n",
              "    <tr>\n",
              "      <th>5</th>\n",
              "      <td>-0.011914</td>\n",
              "      <td>0.992303</td>\n",
              "      <td>-0.013683</td>\n",
              "      <td>0.994107</td>\n",
              "    </tr>\n",
              "  </tbody>\n",
              "</table>\n",
              "</div>"
            ],
            "text/plain": [
              "   val_loss  val_crf_viterbi_accuracy      loss  crf_viterbi_accuracy\n",
              "0  0.054477                  0.981805  0.131317              0.967066\n",
              "1  0.020312                  0.989662  0.031607              0.987361\n",
              "2  0.008164                  0.991143  0.011048              0.991381\n",
              "3  0.000059                  0.991920  0.000429              0.992897\n",
              "4 -0.006094                  0.992134 -0.007233              0.993607\n",
              "5 -0.011914                  0.992303 -0.013683              0.994107"
            ]
          },
          "metadata": {
            "tags": []
          },
          "execution_count": 28
        }
      ]
    },
    {
      "cell_type": "code",
      "metadata": {
        "colab": {
          "base_uri": "https://localhost:8080/",
          "height": 295
        },
        "id": "GqtykPyOlPLc",
        "outputId": "a4c47b9e-372c-4090-d887-c26fa3e42ffc"
      },
      "source": [
        "plt.plot(hist[\"loss\"], label=\"Train loss\")\n",
        "plt.plot(hist[\"val_loss\"], label=\"Validation loss\")\n",
        "plt.legend()\n",
        "plt.xlabel(\"Epoch\")\n",
        "plt.ylabel(\"Loss\")\n",
        "plt.title(\"Plot of train and validation loss\")\n",
        "plt.grid()\n",
        "plt.show()"
      ],
      "execution_count": 29,
      "outputs": [
        {
          "output_type": "display_data",
          "data": {
            "image/png": "[encoded data removed]",
            "text/plain": [
              "<Figure size 432x288 with 1 Axes>"
            ]
          },
          "metadata": {
            "tags": [],
            "needs_background": "light"
          }
        }
      ]
    },
    {
      "cell_type": "markdown",
      "metadata": {
        "id": "PGFTAvFaq4wc"
      },
      "source": [
        "### **Evaluate the Model.**"
      ]
    },
    {
      "cell_type": "code",
      "metadata": {
        "colab": {
          "base_uri": "https://localhost:8080/"
        },
        "id": "7kYaYLOPlPOP",
        "outputId": "fc81520d-b4d1-42a3-846a-eebbb2d26906"
      },
      "source": [
        "# Predict output for test data\n",
        "test_pred = model.predict(X_te, verbose=1)\n",
        "# Index as key and tag as value\n",
        "idx_to_tag = {i: w for w, i in tag_to_idx.items()}\n",
        "# Function to convert indexed tags to corresponding actual tags\n",
        "def pred2label(pred):\n",
        "    out = []\n",
        "    for pred_i in pred:\n",
        "        out_i = []\n",
        "        for p in pred_i:\n",
        "            p_i = np.argmax(p)\n",
        "            out_i.append(idx_to_tag[p_i].replace(\"PAD\", \"O\"))\n",
        "        out.append(out_i)\n",
        "    return out\n",
        "    \n",
        "pred_labels = pred2label(test_pred)\n",
        "test_labels = pred2label(y_te)\n",
        "\n",
        "print(\"Accuracy: \", accuracy_score(test_labels, pred_labels))\n"
      ],
      "execution_count": 30,
      "outputs": [
        {
          "output_type": "stream",
          "text": [
            "9592/9592 [==============================] - 14s 1ms/step\n",
            "Accuracy:  0.9923853211009175\n"
          ],
          "name": "stdout"
        }
      ]
    },
    {
      "cell_type": "markdown",
      "metadata": {
        "id": "U8bVaHETrk92"
      },
      "source": [
        "**Results.**"
      ]
    },
    {
      "cell_type": "code",
      "metadata": {
        "colab": {
          "base_uri": "https://localhost:8080/"
        },
        "id": "9BilPZQIlPRM",
        "outputId": "2ac31a65-e3d4-46c0-8263-b82dfcc3b946"
      },
      "source": [
        "# Output for random test input\n",
        "i = 1500\n",
        "p = model.predict(np.array([X_te[i]]))\n",
        "p = np.argmax(p, axis=-1)\n",
        "true = np.argmax(y_te[i], -1)\n",
        "    \n",
        "x = PrettyTable()\n",
        "x.field_names = [\"Word\", \"Actual Tag\", \"Predicted Tag\"]\n",
        "\n",
        "for w, t, pred in zip(X_te[i], true, p[0]):\n",
        "    if w != 0:\n",
        "        x.add_row([words[w-1], tags[t], tags[pred]])\n",
        "        \n",
        "print(x)"
      ],
      "execution_count": 31,
      "outputs": [
        {
          "output_type": "stream",
          "text": [
            "+-----------+------------+---------------+\n",
            "|    Word   | Actual Tag | Predicted Tag |\n",
            "+-----------+------------+---------------+\n",
            "|     In    |     O      |       O       |\n",
            "|  Baghdad  |   B-geo    |     B-geo     |\n",
            "|     ,     |     O      |       O       |\n",
            "|    the    |     O      |       O       |\n",
            "|  military |     O      |       O       |\n",
            "|    said   |     O      |       O       |\n",
            "|     a     |     O      |       O       |\n",
            "|  roadside |     O      |       O       |\n",
            "|    bomb   |     O      |       O       |\n",
            "|  wounded  |     O      |       O       |\n",
            "|   three   |     O      |       O       |\n",
            "|   Iraqi   |   B-gpe    |     B-gpe     |\n",
            "| civilians |     O      |       O       |\n",
            "|     .     |     O      |       O       |\n",
            "+-----------+------------+---------------+\n"
          ],
          "name": "stdout"
        }
      ]
    },
    {
      "cell_type": "code",
      "metadata": {
        "id": "3O8PhXhylPT0"
      },
      "source": [
        "# Query sentence other than test input\n",
        "test_sentence = [\"India\", \"is\", \"second\", \"most\", \"populous\", \"country\"]"
      ],
      "execution_count": 32,
      "outputs": []
    },
    {
      "cell_type": "code",
      "metadata": {
        "id": "9AbtGwRElPXH"
      },
      "source": [
        "x_test_sent = pad_sequences(sequences=[[word_to_idx.get(w, 0) for w in test_sentence]], padding=\"post\", value=0, maxlen=max_len)"
      ],
      "execution_count": 33,
      "outputs": []
    },
    {
      "cell_type": "code",
      "metadata": {
        "colab": {
          "base_uri": "https://localhost:8080/"
        },
        "id": "Ej1g79lIlPdW",
        "outputId": "5c49b48d-56a6-4280-d82f-9ad975e83b8c"
      },
      "source": [
        "# Output tags for query input\n",
        "p = model.predict(np.array([x_test_sent[0]]))\n",
        "p = np.argmax(p, axis=-1)\n",
        "\n",
        "x = PrettyTable()\n",
        "x.field_names = [\"Word\", \"Predicted Tag\"]\n",
        "\n",
        "for w, pred in zip(test_sentence, p[0]):\n",
        "    x.add_row([w, tags[pred]])\n",
        "        \n",
        "print(x)"
      ],
      "execution_count": 34,
      "outputs": [
        {
          "output_type": "stream",
          "text": [
            "+----------+---------------+\n",
            "|   Word   | Predicted Tag |\n",
            "+----------+---------------+\n",
            "|  India   |     B-geo     |\n",
            "|    is    |       O       |\n",
            "|  second  |       O       |\n",
            "|   most   |       O       |\n",
            "| populous |       O       |\n",
            "| country  |       O       |\n",
            "+----------+---------------+\n"
          ],
          "name": "stdout"
        }
      ]
    },
    {
      "cell_type": "markdown",
      "metadata": {
        "id": "Uz534idwmQLg"
      },
      "source": [
        "**Conclusion.**\n",
        "\n",
        "Bi-LSTM-CRF model is used for NER task\n",
        "\n",
        "Model is evaluated on test data.\n",
        "\n",
        "The accuracy of model after evaluation is 99.2% and result is really good."
      ]
    }
  ]
}