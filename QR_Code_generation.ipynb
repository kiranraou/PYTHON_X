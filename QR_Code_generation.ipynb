{
  "nbformat": 4,
  "nbformat_minor": 0,
  "metadata": {
    "colab": {
      "name": "QR Code generation.ipynb",
      "provenance": [],
      "collapsed_sections": [],
      "authorship_tag": "ABX9TyPaCRIh241ZVSqIeXuf1IYQ",
      "include_colab_link": true
    },
    "kernelspec": {
      "name": "python3",
      "display_name": "Python 3"
    },
    "language_info": {
      "name": "python"
    }
  },
  "cells": [
    {
      "cell_type": "markdown",
      "metadata": {
        "id": "view-in-github",
        "colab_type": "text"
      },
      "source": [
        "<a href=\"https://colab.research.google.com/github/kiranraou/PYTHON_X/blob/main/QR_Code_generation.ipynb\" target=\"_parent\"><img src=\"https://colab.research.google.com/assets/colab-badge.svg\" alt=\"Open In Colab\"/></a>"
      ]
    },
    {
      "cell_type": "markdown",
      "metadata": {
        "id": "Bdd6t5L_y2Mr"
      },
      "source": [
        "**QR Code generation using Python**"
      ]
    },
    {
      "cell_type": "markdown",
      "metadata": {
        "id": "KYbPOiPWzBZG"
      },
      "source": [
        "**Prequitsities** >> \"Import qrcode library\"\n",
        "\n",
        "Note : This Python code used to generate QR Code for any given url it can be your GitHub link, Instagram, Facebook,Youtube, Telegram link etc to share with others."
      ]
    },
    {
      "cell_type": "code",
      "metadata": {
        "id": "OX5jbm0mzZ4L"
      },
      "source": [
        "import qrcode\n",
        "img = qrcode.make(\"https://github.com/kiranraou\")\n",
        "img.save(\"githubkrao.jpg\")"
      ],
      "execution_count": 4,
      "outputs": []
    }
  ]
}