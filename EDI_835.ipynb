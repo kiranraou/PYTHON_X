{
  "nbformat": 4,
  "nbformat_minor": 0,
  "metadata": {
    "colab": {
      "provenance": []
    },
    "kernelspec": {
      "name": "python3",
      "display_name": "Python 3"
    },
    "language_info": {
      "name": "python"
    }
  },
  "cells": [
    {
      "cell_type": "markdown",
      "source": [
        "#EDI 835 Parser\n",
        "\n",
        "\n",
        "####This Python library-parse and converts EDI 835 file to csv file for simple to use and understandable."
      ],
      "metadata": {
        "id": "duqLJjP3ssqf"
      }
    },
    {
      "cell_type": "markdown",
      "source": [
        "Pre- requisite\n",
        "*Need to install python package(edi-835-parser)"
      ],
      "metadata": {
        "id": "msOrIZImuZEG"
      }
    },
    {
      "cell_type": "code",
      "source": [
        "#command\n",
        "!pip install edi-835-parser"
      ],
      "metadata": {
        "colab": {
          "base_uri": "https://localhost:8080/"
        },
        "id": "oeoDpJRhsUVV",
        "outputId": "6aae002b-f9fc-44a7-87cb-87128647b9a4"
      },
      "execution_count": 5,
      "outputs": [
        {
          "output_type": "stream",
          "name": "stdout",
          "text": [
            "Requirement already satisfied: edi-835-parser in /usr/local/lib/python3.10/dist-packages (1.7.0)\n",
            "Requirement already satisfied: pandas<3.0.0,>=2.0.3 in /usr/local/lib/python3.10/dist-packages (from edi-835-parser) (2.0.3)\n",
            "Requirement already satisfied: python-dateutil>=2.8.2 in /usr/local/lib/python3.10/dist-packages (from pandas<3.0.0,>=2.0.3->edi-835-parser) (2.8.2)\n",
            "Requirement already satisfied: pytz>=2020.1 in /usr/local/lib/python3.10/dist-packages (from pandas<3.0.0,>=2.0.3->edi-835-parser) (2023.3)\n",
            "Requirement already satisfied: tzdata>=2022.1 in /usr/local/lib/python3.10/dist-packages (from pandas<3.0.0,>=2.0.3->edi-835-parser) (2023.3)\n",
            "Requirement already satisfied: numpy>=1.21.0 in /usr/local/lib/python3.10/dist-packages (from pandas<3.0.0,>=2.0.3->edi-835-parser) (1.23.5)\n",
            "Requirement already satisfied: six>=1.5 in /usr/local/lib/python3.10/dist-packages (from python-dateutil>=2.8.2->pandas<3.0.0,>=2.0.3->edi-835-parser) (1.16.0)\n"
          ]
        }
      ]
    },
    {
      "cell_type": "markdown",
      "source": [
        "###Code for reference"
      ],
      "metadata": {
        "id": "bRGtCP3-u1gF"
      }
    },
    {
      "cell_type": "code",
      "source": [
        "from edi_835_parser import parse\n",
        "\n",
        "#EDI File Path\n",
        "path = '/content/sample EDI-835 file.txt'\n",
        "transaction_sets = parse(path)\n",
        "\n",
        "data = transaction_sets.to_dataframe()\n",
        "\n",
        "data.to_csv('edi_file.csv')"
      ],
      "metadata": {
        "id": "YYiSBUVPu6iL"
      },
      "execution_count": 6,
      "outputs": []
    }
  ]
}